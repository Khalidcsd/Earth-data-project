{
 "cells": [
  {
   "cell_type": "markdown",
   "metadata": {},
   "source": [
    "# Introduction to Earth System Data"
   ]
  },
  {
   "cell_type": "code",
   "execution_count": 16,
   "metadata": {},
   "outputs": [
    {
     "data": {
      "text/plain": [
       "float"
      ]
     },
     "execution_count": 16,
     "metadata": {},
     "output_type": "execute_result"
    }
   ],
   "source": [
    "# variable assignment\n",
    "a = 10.899\n",
    "a\n",
    "# what is a? it's an integer (int)!\n",
    "type(a)"
   ]
  },
  {
   "cell_type": "markdown",
   "metadata": {},
   "source": [
    "# Integer"
   ]
  },
  {
   "cell_type": "code",
   "execution_count": 46,
   "metadata": {},
   "outputs": [
    {
     "data": {
      "text/plain": [
       "20"
      ]
     },
     "execution_count": 46,
     "metadata": {},
     "output_type": "execute_result"
    }
   ],
   "source": [
    "a = 20\n",
    "a"
   ]
  },
  {
   "cell_type": "code",
   "execution_count": 47,
   "metadata": {},
   "outputs": [
    {
     "data": {
      "text/plain": [
       "str"
      ]
     },
     "execution_count": 47,
     "metadata": {},
     "output_type": "execute_result"
    }
   ],
   "source": [
    "# what is a? it's an integer (int)!\n",
    "type(b)"
   ]
  },
  {
   "cell_type": "markdown",
   "metadata": {},
   "source": [
    "# Float"
   ]
  },
  {
   "cell_type": "code",
   "execution_count": 48,
   "metadata": {},
   "outputs": [
    {
     "data": {
      "text/plain": [
       "15.5"
      ]
     },
     "execution_count": 48,
     "metadata": {},
     "output_type": "execute_result"
    }
   ],
   "source": [
    "z = 15.5\n",
    "z"
   ]
  },
  {
   "cell_type": "markdown",
   "metadata": {},
   "source": [
    "# String"
   ]
  },
  {
   "cell_type": "code",
   "execution_count": 49,
   "metadata": {},
   "outputs": [
    {
     "data": {
      "text/plain": [
       "'3'"
      ]
     },
     "execution_count": 49,
     "metadata": {},
     "output_type": "execute_result"
    }
   ],
   "source": [
    "b = '3'\n",
    "b"
   ]
  },
  {
   "cell_type": "code",
   "execution_count": 51,
   "metadata": {},
   "outputs": [
    {
     "data": {
      "text/plain": [
       "str"
      ]
     },
     "execution_count": 51,
     "metadata": {},
     "output_type": "execute_result"
    }
   ],
   "source": [
    "type(\"c\")"
   ]
  },
  {
   "cell_type": "markdown",
   "metadata": {},
   "source": [
    "# Type change"
   ]
  },
  {
   "cell_type": "code",
   "execution_count": 22,
   "metadata": {},
   "outputs": [
    {
     "name": "stdout",
     "output_type": "stream",
     "text": [
      "type of number is  <class 'float'>\n",
      "type of string of number is  <class 'str'>\n"
     ]
    }
   ],
   "source": [
    "# e.g. we have a number and we want it to be come a string:\n",
    "\n",
    "number = 14.345\n",
    "string = str(number)\n",
    "\n",
    "print (\"type of number is \", type(number))\n",
    "print (\"type of string of number is \",type(string))"
   ]
  },
  {
   "cell_type": "markdown",
   "metadata": {},
   "source": [
    "# Operations"
   ]
  },
  {
   "cell_type": "code",
   "execution_count": 24,
   "metadata": {},
   "outputs": [
    {
     "data": {
      "text/plain": [
       "20.4"
      ]
     },
     "execution_count": 24,
     "metadata": {},
     "output_type": "execute_result"
    }
   ],
   "source": [
    "# one has better luck adding an integer to a float. Result is automatically assigned to float\n",
    "a+z"
   ]
  },
  {
   "cell_type": "code",
   "execution_count": 25,
   "metadata": {},
   "outputs": [
    {
     "name": "stdout",
     "output_type": "stream",
     "text": [
      "if b is considered a string which result do i get? ahhh..  2222222222\n",
      "if b is becoming again an integer, that's the result... 20\n"
     ]
    }
   ],
   "source": [
    "# on the other hand, it is  possible to multiply an integer and a string. \n",
    "# the result can be confusing! Please always pay attention to the type of what you are working on...\n",
    "\n",
    "# Trying again\n",
    "\n",
    "# a is an integer\n",
    "a=10\n",
    "\n",
    "# b is now a string, although it looks like an integer...\n",
    "b='2'\n",
    "\n",
    "print(\"if b is considered a string which result do i get? ahhh.. \", a*b)\n",
    "\n",
    "print(\"if b is becoming again an integer, that's the result...\", a*int(b))\n"
   ]
  },
  {
   "cell_type": "markdown",
   "metadata": {},
   "source": [
    "# Python as a calculator\n",
    "\n",
    "see https://docs.python.org/3/tutorial/introduction.html"
   ]
  },
  {
   "cell_type": "code",
   "execution_count": 26,
   "metadata": {},
   "outputs": [
    {
     "data": {
      "text/plain": [
       "20"
      ]
     },
     "execution_count": 26,
     "metadata": {},
     "output_type": "execute_result"
    }
   ],
   "source": [
    "50 - 5*6"
   ]
  },
  {
   "cell_type": "code",
   "execution_count": 27,
   "metadata": {},
   "outputs": [
    {
     "data": {
      "text/plain": [
       "5.0"
      ]
     },
     "execution_count": 27,
     "metadata": {},
     "output_type": "execute_result"
    }
   ],
   "source": [
    "(50 - 5.0*6) / 4"
   ]
  },
  {
   "cell_type": "code",
   "execution_count": 28,
   "metadata": {},
   "outputs": [
    {
     "data": {
      "text/plain": [
       "4.0"
      ]
     },
     "execution_count": 28,
     "metadata": {},
     "output_type": "execute_result"
    }
   ],
   "source": [
    "# import mathematical functions, i.e. make them available to me...\n",
    "import math\n",
    "\n",
    "# define the number you want to calculate the square root of\n",
    "a=16\n",
    "\n",
    "# calculate it (you have to press \"run\" \n",
    "# or the play button on the toolbar, at the top of this windown.)\n",
    "math.sqrt(a)"
   ]
  },
  {
   "cell_type": "markdown",
   "metadata": {},
   "source": [
    "# Lists\n",
    "\n"
   ]
  },
  {
   "cell_type": "code",
   "execution_count": 29,
   "metadata": {},
   "outputs": [
    {
     "name": "stdout",
     "output_type": "stream",
     "text": [
      "the first elemente in the list is \n",
      "1\n",
      "\n",
      "\n",
      "the second element in the list is \n",
      "7\n",
      "\n",
      "\n",
      "all elements in the list are \n",
      "[1, 7, 0, 35, 100]\n"
     ]
    }
   ],
   "source": [
    "list = [1, 7, 0, 35, 100]\n",
    "\n",
    "print ('the first elemente in the list is ') \n",
    "print(list[0])\n",
    "print('\\n')\n",
    "\n",
    "print('the second element in the list is ')\n",
    "print(list[1]) \n",
    "print('\\n')\n",
    "\n",
    "print('all elements in the list are ')\n",
    "print(list[:])"
   ]
  },
  {
   "cell_type": "markdown",
   "metadata": {},
   "source": [
    "# Subsets / slices"
   ]
  },
  {
   "cell_type": "code",
   "execution_count": 30,
   "metadata": {},
   "outputs": [
    {
     "name": "stdout",
     "output_type": "stream",
     "text": [
      "[7, 0, 35]\n",
      "[1]\n"
     ]
    }
   ],
   "source": [
    "# one can extract subset of lists with ranges, indicated by \":\" separating first and last\n",
    "subset = list[1:4]\n",
    "# should return 3 values (2nd, 3rd, 4th : check!\n",
    "\n",
    "subset2 = list[0:1]\n",
    "# should return 2 values: check!\n",
    "\n",
    "# The first slice is included, the last not: check!\n",
    "# change values of slices\n",
    "\n",
    "print(subset)\n",
    "\n",
    "print(subset2)"
   ]
  },
  {
   "cell_type": "markdown",
   "metadata": {},
   "source": [
    "# 2-D Arrays"
   ]
  },
  {
   "cell_type": "code",
   "execution_count": 31,
   "metadata": {},
   "outputs": [
    {
     "name": "stdout",
     "output_type": "stream",
     "text": [
      "[[0.32806122 0.11256188 0.46760441 0.34965113 0.86001125]\n",
      " [0.75706914 0.76448044 0.77368403 0.10243385 0.84645695]\n",
      " [0.69862007 0.35415956 0.53589076 0.70794955 0.2187273 ]\n",
      " [0.88073823 0.18818745 0.04190161 0.95866147 0.56251947]\n",
      " [0.86417924 0.09295532 0.14330234 0.81430426 0.44023359]]\n"
     ]
    }
   ],
   "source": [
    "%matplotlib inline\n",
    "import numpy as np\n",
    "\n",
    "# random array/matrix 5x5\n",
    "\n",
    "array5 = np.random.rand(5, 5)   \n",
    " \n",
    "print(array5)"
   ]
  },
  {
   "cell_type": "markdown",
   "metadata": {},
   "source": [
    "# Array subsets"
   ]
  },
  {
   "cell_type": "code",
   "execution_count": 32,
   "metadata": {},
   "outputs": [
    {
     "name": "stdout",
     "output_type": "stream",
     "text": [
      "the first column is  [0.32806122 0.75706914 0.69862007 0.88073823 0.86417924]\n",
      "the second column is  [0.11256188 0.76448044 0.35415956 0.18818745 0.09295532]\n",
      "the first row is  [0.32806122 0.11256188 0.46760441 0.34965113 0.86001125]\n",
      "the third row is  [0.69862007 0.35415956 0.53589076 0.70794955 0.2187273 ]\n",
      "the element at third row and first column is  0.6986200653816256\n"
     ]
    }
   ],
   "source": [
    "first_column = array5[:, 0]                    \n",
    "second_column = array5[:, 1]  \n",
    "first_row = array5[0, :]\n",
    "third_row = array5[2, :]\n",
    "\n",
    "third_row_first_column = array5[2, 0]\n",
    "\n",
    "print(\"the first column is \", first_column)\n",
    "\n",
    "print(\"the second column is \", second_column)\n",
    "\n",
    "print(\"the first row is \", first_row)\n",
    "\n",
    "print(\"the third row is \", third_row)\n",
    "\n",
    "print(\"the element at third row and first column is \", third_row_first_column)"
   ]
  },
  {
   "cell_type": "code",
   "execution_count": 33,
   "metadata": {},
   "outputs": [
    {
     "data": {
      "text/plain": [
       "<matplotlib.colorbar.Colorbar at 0x11f082e90>"
      ]
     },
     "execution_count": 33,
     "metadata": {},
     "output_type": "execute_result"
    },
    {
     "data": {
      "image/png": "[encoded data removed]",
      "text/plain": [
       "<Figure size 432x288 with 2 Axes>"
      ]
     },
     "metadata": {
      "needs_background": "light"
     },
     "output_type": "display_data"
    }
   ],
   "source": [
    "# see http://wiki.scipy.org/Tentative_NumPy_Tutorial\n",
    "    \n",
    "%matplotlib inline\n",
    "\n",
    "import numpy as np\n",
    "import matplotlib.pyplot as plt\n",
    "\n",
    "bubuarray = [[1., 2., 7., 8., 12.],\n",
    "                [1,  3,  15,   8,   6],\n",
    "                [2,  1, 5,  20,  3],\n",
    "                [2.5,  16.3545, 10,  5,  1],\n",
    "                [12,  4.6,  7.6,  8,  2]]\n",
    "                     \n",
    "\n",
    "#print bubuarray\n",
    "\n",
    "# don't worry about this now.. you can look at the following line\n",
    "# again later on, when you are done with most of the rest\n",
    "plt.imshow(bubuarray, cmap=plt.cm.jet )    \n",
    "plt.colorbar()    \n",
    "\n",
    "# see (later.. not now) http://matplotlib.org/examples/color/colormaps_reference.html\n"
   ]
  },
  {
   "cell_type": "markdown",
   "metadata": {},
   "source": [
    "# The above bigger..."
   ]
  },
  {
   "cell_type": "code",
   "execution_count": 34,
   "metadata": {},
   "outputs": [
    {
     "data": {
      "text/plain": [
       "<matplotlib.colorbar.Colorbar at 0x11f8f7dd0>"
      ]
     },
     "execution_count": 34,
     "metadata": {},
     "output_type": "execute_result"
    },
    {
     "data": {
      "image/png": "[encoded data removed]",
      "text/plain": [
       "<Figure size 432x432 with 2 Axes>"
      ]
     },
     "metadata": {
      "needs_background": "light"
     },
     "output_type": "display_data"
    }
   ],
   "source": [
    "fig = plt.figure(figsize=((6,6)))\n",
    "\n",
    "levels = [2, 4, 8, 10, 12, 14, 16, 18]\n",
    "\n",
    "plt.imshow(bubuarray, cmap=plt.cm.jet, interpolation='none')\n",
    "plt.colorbar() \n",
    "\n",
    "# if you want to see contours (for later, if you come back to this)\n",
    "# please uncomment the following 2 lines\n",
    "# contour = plt.contour(bubuarray, levels, colors='k')\n",
    "# plt.clabel(contour, inline=1, fontsize=10)\n",
    "\n",
    "\n",
    "# This is bubuarray ... it shows up\n",
    "\n",
    "# bubuarray content (5 x 5) pasted for comparison with plot:\n",
    "\n",
    "#     1      2.         7.     8.     12\n",
    "#     1      3          15     8      6\n",
    "#     2      1          5      20     3\n",
    "#     2.5    16.3545    10     5      1\n",
    "#     12     4.6        7.6    8      2\n",
    "\n"
   ]
  },
  {
   "cell_type": "markdown",
   "metadata": {},
   "source": [
    "#  Exercise\n",
    "\n",
    "which is the element at the 2nd row 3rd column of ```bubuarray```? Try to extract it in the following cell (and print it as result of the cell"
   ]
  },
  {
   "cell_type": "code",
   "execution_count": 35,
   "metadata": {},
   "outputs": [],
   "source": [
    "# here you can try and extract the element at 2nd row, 3rd column."
   ]
  },
  {
   "cell_type": "markdown",
   "metadata": {},
   "source": [
    "# Control structures"
   ]
  },
  {
   "cell_type": "code",
   "execution_count": 36,
   "metadata": {},
   "outputs": [
    {
     "name": "stdout",
     "output_type": "stream",
     "text": [
      "one\n",
      "2\n",
      "bubu\n",
      "20\n",
      "5\n"
     ]
    }
   ],
   "source": [
    "l = ['one', 2, 'bubu', 5*4, 3+2]\n",
    "\n",
    "for element in l:\n",
    "    print(element)\n",
    "\n",
    "# As you can see, lists can be heterogeneous\n",
    "\n",
    "# Please note that the \"print command\" should be after a TAB. \n",
    "# Try to remove the tab and run again. What happens?"
   ]
  },
  {
   "cell_type": "markdown",
   "metadata": {},
   "source": [
    "# Reading data "
   ]
  },
  {
   "cell_type": "code",
   "execution_count": 37,
   "metadata": {},
   "outputs": [
    {
     "ename": "FileNotFoundError",
     "evalue": "[Errno 2] No such file or directory: './data/python-intro-data.txt'",
     "output_type": "error",
     "traceback": [
      "\u001b[0;31m---------------------------------------------------------------------------\u001b[0m",
      "\u001b[0;31mFileNotFoundError\u001b[0m                         Traceback (most recent call last)",
      "\u001b[0;32m<ipython-input-37-56054e5734df>\u001b[0m in \u001b[0;36m<module>\u001b[0;34m\u001b[0m\n\u001b[1;32m      6\u001b[0m \u001b[0;34m\u001b[0m\u001b[0m\n\u001b[1;32m      7\u001b[0m \u001b[0;31m#Method 1A: Open the whole file as one big string\u001b[0m\u001b[0;34m\u001b[0m\u001b[0;34m\u001b[0m\u001b[0;34m\u001b[0m\u001b[0m\n\u001b[0;32m----> 8\u001b[0;31m \u001b[0mf\u001b[0m \u001b[0;34m=\u001b[0m \u001b[0mopen\u001b[0m\u001b[0;34m(\u001b[0m\u001b[0;34m'./data/python-intro-data.txt'\u001b[0m\u001b[0;34m,\u001b[0m \u001b[0;34m'r'\u001b[0m\u001b[0;34m)\u001b[0m \u001b[0;31m# 'r' = read\u001b[0m\u001b[0;34m\u001b[0m\u001b[0;34m\u001b[0m\u001b[0m\n\u001b[0m\u001b[1;32m      9\u001b[0m \u001b[0mprint\u001b[0m\u001b[0;34m(\u001b[0m\u001b[0mfile\u001b[0m\u001b[0;34m)\u001b[0m\u001b[0;34m,\u001b[0m\u001b[0;34m\u001b[0m\u001b[0;34m\u001b[0m\u001b[0m\n\u001b[1;32m     10\u001b[0m \u001b[0mlines\u001b[0m \u001b[0;34m=\u001b[0m \u001b[0mf\u001b[0m\u001b[0;34m.\u001b[0m\u001b[0mread\u001b[0m\u001b[0;34m(\u001b[0m\u001b[0;34m)\u001b[0m\u001b[0;34m\u001b[0m\u001b[0;34m\u001b[0m\u001b[0m\n",
      "\u001b[0;31mFileNotFoundError\u001b[0m: [Errno 2] No such file or directory: './data/python-intro-data.txt'"
     ]
    }
   ],
   "source": [
    "# FROM http://oceanpython.org/2012/12/02/reading-text-ascii-files/\n",
    "\n",
    "%matplotlib inline\n",
    "\n",
    "import numpy\n",
    "\n",
    "#Method 1A: Open the whole file as one big string\n",
    "f = open('./data/python-intro-data.txt', 'r') # 'r' = read\n",
    "print(file),\n",
    "lines = f.read()\n",
    "print(lines),\n",
    "f.close()\n"
   ]
  },
  {
   "cell_type": "markdown",
   "metadata": {},
   "source": [
    "... if you get an IOError, maybe the file is not there...\n",
    "\n",
    "I keep it locally \n",
    "\n",
    "\n",
    "you can get it from, e.g. piggy (see Class 00 or Teamwork...) and put it in your home directory, e.g.\n",
    "\n",
    "```\n",
    "user@host~> cd ~/DE-Earth/Data\n",
    "user@host~/DE-Earth> \n",
    "\n",
    "user@host~/DE-Earth> scp -r gerda@piggy.clamv.jacobs-university.de:/usr/data/Samba/gerda/Spring2019/DE/DE-Earth/Extra/Data-samples.zip .\n",
    "Password: \n",
    "pytho-intro-data.txt                                           100%   45KB  11.1KB/s   00:04    \n",
    "test-data-1.txt                                                100%   35KB  35.2KB/s   00:00    \n",
    "bash-3.2$ ls\n",
    "image1.jpg\t\ttest3-copy.txt\t\ttestdir\n",
    "test2renamed.txt\ttest3.txt\t\tweek2\n",
    "```\n",
    "\n",
    "Please try again the python code above with the right path, i.e.\n",
    "\n",
    "instead of\n",
    "```\n",
    "f = open('files/python-intro-data.txt', 'r') # 'r' = read\n",
    "\n",
    "```\n",
    "\n",
    "please use\n",
    "\n",
    "```\n",
    "f = open('../data_samples/ascii/python-intro-data.txt', 'r') # 'r' = read\n",
    "\n",
    "```\n",
    "\n",
    "\n"
   ]
  },
  {
   "cell_type": "markdown",
   "metadata": {},
   "source": [
    "# Opening a file directly from a URL"
   ]
  },
  {
   "cell_type": "code",
   "execution_count": 38,
   "metadata": {},
   "outputs": [
    {
     "name": "stdout",
     "output_type": "stream",
     "text": [
      "Help on package requests:\n",
      "\n",
      "NAME\n",
      "    requests\n",
      "\n",
      "DESCRIPTION\n",
      "    Requests HTTP Library\n",
      "    ~~~~~~~~~~~~~~~~~~~~~\n",
      "    \n",
      "    Requests is an HTTP library, written in Python, for human beings. Basic GET\n",
      "    usage:\n",
      "    \n",
      "       >>> import requests\n",
      "       >>> r = requests.get('https://www.python.org')\n",
      "       >>> r.status_code\n",
      "       200\n",
      "       >>> 'Python is a programming language' in r.content\n",
      "       True\n",
      "    \n",
      "    ... or POST:\n",
      "    \n",
      "       >>> payload = dict(key1='value1', key2='value2')\n",
      "       >>> r = requests.post('https://httpbin.org/post', data=payload)\n",
      "       >>> print(r.text)\n",
      "       {\n",
      "         ...\n",
      "         \"form\": {\n",
      "           \"key2\": \"value2\",\n",
      "           \"key1\": \"value1\"\n",
      "         },\n",
      "         ...\n",
      "       }\n",
      "    \n",
      "    The other HTTP methods are supported - see `requests.api`. Full documentation\n",
      "    is at <http://python-requests.org>.\n",
      "    \n",
      "    :copyright: (c) 2017 by Kenneth Reitz.\n",
      "    :license: Apache 2.0, see LICENSE for more details.\n",
      "\n",
      "PACKAGE CONTENTS\n",
      "    __version__\n",
      "    _internal_utils\n",
      "    adapters\n",
      "    api\n",
      "    auth\n",
      "    certs\n",
      "    compat\n",
      "    cookies\n",
      "    exceptions\n",
      "    help\n",
      "    hooks\n",
      "    models\n",
      "    packages\n",
      "    sessions\n",
      "    status_codes\n",
      "    structures\n",
      "    utils\n",
      "\n",
      "FUNCTIONS\n",
      "    check_compatibility(urllib3_version, chardet_version)\n",
      "\n",
      "DATA\n",
      "    __author_email__ = 'me@kennethreitz.org'\n",
      "    __build__ = 139776\n",
      "    __cake__ = '✨ 🍰 ✨'\n",
      "    __copyright__ = 'Copyright 2019 Kenneth Reitz'\n",
      "    __description__ = 'Python HTTP for Humans.'\n",
      "    __license__ = 'Apache 2.0'\n",
      "    __title__ = 'requests'\n",
      "    __url__ = 'http://python-requests.org'\n",
      "    codes = <lookup 'status_codes'>\n",
      "    cryptography_version = '2.7'\n",
      "\n",
      "VERSION\n",
      "    2.22.0\n",
      "\n",
      "AUTHOR\n",
      "    Kenneth Reitz\n",
      "\n",
      "FILE\n",
      "    /Users/muhammadkhalid/opt/anaconda3/lib/python3.7/site-packages/requests/__init__.py\n",
      "\n",
      "\n"
     ]
    }
   ],
   "source": [
    "import requests\n",
    "help(requests)"
   ]
  },
  {
   "cell_type": "code",
   "execution_count": 39,
   "metadata": {},
   "outputs": [],
   "source": [
    "# with requests\n",
    "# see also https://python4astronomers.github.io/files/asciifiles.html\n",
    "\n",
    "import requests\n",
    "import shutil\n",
    "\n",
    "%matplotlib inline\n",
    "\n",
    "url = 'http://www.faculty.jacobs-university.de/vunnithan/spring19/data/pytho-intro-data.txt'\n",
    "r = requests.get(url)\n",
    "\n",
    "# try to uncomment the two lines below and see what happens\n",
    "# print(r.content)\n",
    "# print(r.content)\n",
    "\n",
    "# or download localy for further use, e.g. plotting\n",
    "with open('./ascii-intro.txt', 'wb') as out_file:\n",
    "    out_file.write(r.content)"
   ]
  },
  {
   "cell_type": "code",
   "execution_count": 41,
   "metadata": {},
   "outputs": [
    {
     "ename": "ValueError",
     "evalue": "Some errors were detected !\n    Line #11 (got 2 columns instead of 1)\n    Line #32 (got 2 columns instead of 1)",
     "output_type": "error",
     "traceback": [
      "\u001b[0;31m---------------------------------------------------------------------------\u001b[0m",
      "\u001b[0;31mValueError\u001b[0m                                Traceback (most recent call last)",
      "\u001b[0;32m<ipython-input-41-4aed76cb8924>\u001b[0m in \u001b[0;36m<module>\u001b[0;34m\u001b[0m\n\u001b[1;32m      5\u001b[0m \u001b[0minput_file\u001b[0m\u001b[0;34m=\u001b[0m\u001b[0;34m'./ascii-intro.txt'\u001b[0m\u001b[0;34m\u001b[0m\u001b[0;34m\u001b[0m\u001b[0m\n\u001b[1;32m      6\u001b[0m data = np.genfromtxt(input_file, delimiter=',', skip_header=1, \n\u001b[0;32m----> 7\u001b[0;31m                      names=['long', 'lat', 'depth', 'temp', 'grad'])\n\u001b[0m\u001b[1;32m      8\u001b[0m \u001b[0;34m\u001b[0m\u001b[0m\n\u001b[1;32m      9\u001b[0m \u001b[0;31m# print(data)\u001b[0m\u001b[0;34m\u001b[0m\u001b[0;34m\u001b[0m\u001b[0;34m\u001b[0m\u001b[0m\n",
      "\u001b[0;32m~/opt/anaconda3/lib/python3.7/site-packages/numpy/lib/npyio.py\u001b[0m in \u001b[0;36mgenfromtxt\u001b[0;34m(fname, dtype, comments, delimiter, skip_header, skip_footer, converters, missing_values, filling_values, usecols, names, excludelist, deletechars, replace_space, autostrip, case_sensitive, defaultfmt, unpack, usemask, loose, invalid_raise, max_rows, encoding)\u001b[0m\n\u001b[1;32m   2087\u001b[0m             \u001b[0;31m# Raise an exception ?\u001b[0m\u001b[0;34m\u001b[0m\u001b[0;34m\u001b[0m\u001b[0;34m\u001b[0m\u001b[0m\n\u001b[1;32m   2088\u001b[0m             \u001b[0;32mif\u001b[0m \u001b[0minvalid_raise\u001b[0m\u001b[0;34m:\u001b[0m\u001b[0;34m\u001b[0m\u001b[0;34m\u001b[0m\u001b[0m\n\u001b[0;32m-> 2089\u001b[0;31m                 \u001b[0;32mraise\u001b[0m \u001b[0mValueError\u001b[0m\u001b[0;34m(\u001b[0m\u001b[0merrmsg\u001b[0m\u001b[0;34m)\u001b[0m\u001b[0;34m\u001b[0m\u001b[0;34m\u001b[0m\u001b[0m\n\u001b[0m\u001b[1;32m   2090\u001b[0m             \u001b[0;31m# Issue a warning ?\u001b[0m\u001b[0;34m\u001b[0m\u001b[0;34m\u001b[0m\u001b[0;34m\u001b[0m\u001b[0m\n\u001b[1;32m   2091\u001b[0m             \u001b[0;32melse\u001b[0m\u001b[0;34m:\u001b[0m\u001b[0;34m\u001b[0m\u001b[0;34m\u001b[0m\u001b[0m\n",
      "\u001b[0;31mValueError\u001b[0m: Some errors were detected !\n    Line #11 (got 2 columns instead of 1)\n    Line #32 (got 2 columns instead of 1)"
     ]
    }
   ],
   "source": [
    "# one could do something with the text, e.g. plotting\n",
    "import numpy as np\n",
    "import matplotlib.pyplot as plt\n",
    "\n",
    "input_file='./ascii-intro.txt'\n",
    "data = np.genfromtxt(input_file, delimiter=',', skip_header=1, \n",
    "                     names=['long', 'lat', 'depth', 'temp', 'grad'])\n",
    "\n",
    "# print(data)\n",
    "\n",
    "# ax1.plot(data['long'], data['depth'], color='r', label='the data')\n",
    "\n",
    "\n",
    "# figure\n",
    "fig = plt.figure()\n",
    "\n",
    "# subplot\n",
    "ax1 = fig.add_subplot(111)\n",
    "\n",
    "# plot line\n",
    "ax1.plot(data['long'], data['depth'], 'r', color='b')\n",
    "# ax1.plot(data['long'], data['temp'], 'r', color='r')\n",
    "\n",
    "plt.xlabel('Longitude')\n",
    "# plt.ylabel('Temperature')\n"
   ]
  },
  {
   "cell_type": "markdown",
   "metadata": {},
   "source": [
    "# Reading data from ascii:\n",
    "\n",
    "One can open ascii in several ways, e.g. see [https://python4astronomers.github.io/files/asciifiles.html](https://python4astronomers.github.io/files/asciifiles.html)\n",
    "\n",
    "One can load data in many ways, to make it easier, we try to do that from ASCII on URL.\n",
    "We extract sample topography data from \n",
    "\n",
    "http://topex.ucsd.edu/cgi-bin/get_data.cgi with these parameters:\n",
    "\n",
    "Value = Topography\n",
    "\n",
    "MinLat = 40\n",
    "\n",
    "MaxLat = 40.5 \n",
    "\n",
    "MinLon = 8\n",
    "\n",
    "MaxLon = 8.5"
   ]
  },
  {
   "cell_type": "code",
   "execution_count": 42,
   "metadata": {},
   "outputs": [
    {
     "ename": "HTTPError",
     "evalue": "HTTP Error 404: Not Found",
     "output_type": "error",
     "traceback": [
      "\u001b[0;31m---------------------------------------------------------------------------\u001b[0m",
      "\u001b[0;31mHTTPError\u001b[0m                                 Traceback (most recent call last)",
      "\u001b[0;32m<ipython-input-42-185df01b463b>\u001b[0m in \u001b[0;36m<module>\u001b[0;34m\u001b[0m\n\u001b[1;32m      1\u001b[0m \u001b[0;32mfrom\u001b[0m \u001b[0murllib\u001b[0m \u001b[0;32mimport\u001b[0m \u001b[0mrequest\u001b[0m\u001b[0;34m\u001b[0m\u001b[0;34m\u001b[0m\u001b[0m\n\u001b[1;32m      2\u001b[0m \u001b[0murl\u001b[0m \u001b[0;34m=\u001b[0m \u001b[0;34m'http://www.faculty.jacobs-university.de/vunnithan/spring19/data/test-data-1.txt'\u001b[0m\u001b[0;34m\u001b[0m\u001b[0;34m\u001b[0m\u001b[0m\n\u001b[0;32m----> 3\u001b[0;31m \u001b[0mopen\u001b[0m\u001b[0;34m(\u001b[0m\u001b[0;34m'test-data-1.txt'\u001b[0m\u001b[0;34m,\u001b[0m \u001b[0;34m'wb'\u001b[0m\u001b[0;34m)\u001b[0m\u001b[0;34m.\u001b[0m\u001b[0mwrite\u001b[0m\u001b[0;34m(\u001b[0m\u001b[0mrequest\u001b[0m\u001b[0;34m.\u001b[0m\u001b[0murlopen\u001b[0m\u001b[0;34m(\u001b[0m\u001b[0murl\u001b[0m\u001b[0;34m)\u001b[0m\u001b[0;34m.\u001b[0m\u001b[0mread\u001b[0m\u001b[0;34m(\u001b[0m\u001b[0;34m)\u001b[0m\u001b[0;34m)\u001b[0m\u001b[0;34m\u001b[0m\u001b[0;34m\u001b[0m\u001b[0m\n\u001b[0m\u001b[1;32m      4\u001b[0m \u001b[0;34m\u001b[0m\u001b[0m\n\u001b[1;32m      5\u001b[0m \u001b[0mf\u001b[0m \u001b[0;34m=\u001b[0m \u001b[0mopen\u001b[0m\u001b[0;34m(\u001b[0m\u001b[0;34m'test-data-1.txt'\u001b[0m\u001b[0;34m,\u001b[0m \u001b[0;34m'r'\u001b[0m\u001b[0;34m)\u001b[0m\u001b[0;34m\u001b[0m\u001b[0;34m\u001b[0m\u001b[0m\n",
      "\u001b[0;32m~/opt/anaconda3/lib/python3.7/urllib/request.py\u001b[0m in \u001b[0;36murlopen\u001b[0;34m(url, data, timeout, cafile, capath, cadefault, context)\u001b[0m\n\u001b[1;32m    220\u001b[0m     \u001b[0;32melse\u001b[0m\u001b[0;34m:\u001b[0m\u001b[0;34m\u001b[0m\u001b[0;34m\u001b[0m\u001b[0m\n\u001b[1;32m    221\u001b[0m         \u001b[0mopener\u001b[0m \u001b[0;34m=\u001b[0m \u001b[0m_opener\u001b[0m\u001b[0;34m\u001b[0m\u001b[0;34m\u001b[0m\u001b[0m\n\u001b[0;32m--> 222\u001b[0;31m     \u001b[0;32mreturn\u001b[0m \u001b[0mopener\u001b[0m\u001b[0;34m.\u001b[0m\u001b[0mopen\u001b[0m\u001b[0;34m(\u001b[0m\u001b[0murl\u001b[0m\u001b[0;34m,\u001b[0m \u001b[0mdata\u001b[0m\u001b[0;34m,\u001b[0m \u001b[0mtimeout\u001b[0m\u001b[0;34m)\u001b[0m\u001b[0;34m\u001b[0m\u001b[0;34m\u001b[0m\u001b[0m\n\u001b[0m\u001b[1;32m    223\u001b[0m \u001b[0;34m\u001b[0m\u001b[0m\n\u001b[1;32m    224\u001b[0m \u001b[0;32mdef\u001b[0m \u001b[0minstall_opener\u001b[0m\u001b[0;34m(\u001b[0m\u001b[0mopener\u001b[0m\u001b[0;34m)\u001b[0m\u001b[0;34m:\u001b[0m\u001b[0;34m\u001b[0m\u001b[0;34m\u001b[0m\u001b[0m\n",
      "\u001b[0;32m~/opt/anaconda3/lib/python3.7/urllib/request.py\u001b[0m in \u001b[0;36mopen\u001b[0;34m(self, fullurl, data, timeout)\u001b[0m\n\u001b[1;32m    529\u001b[0m         \u001b[0;32mfor\u001b[0m \u001b[0mprocessor\u001b[0m \u001b[0;32min\u001b[0m \u001b[0mself\u001b[0m\u001b[0;34m.\u001b[0m\u001b[0mprocess_response\u001b[0m\u001b[0;34m.\u001b[0m\u001b[0mget\u001b[0m\u001b[0;34m(\u001b[0m\u001b[0mprotocol\u001b[0m\u001b[0;34m,\u001b[0m \u001b[0;34m[\u001b[0m\u001b[0;34m]\u001b[0m\u001b[0;34m)\u001b[0m\u001b[0;34m:\u001b[0m\u001b[0;34m\u001b[0m\u001b[0;34m\u001b[0m\u001b[0m\n\u001b[1;32m    530\u001b[0m             \u001b[0mmeth\u001b[0m \u001b[0;34m=\u001b[0m \u001b[0mgetattr\u001b[0m\u001b[0;34m(\u001b[0m\u001b[0mprocessor\u001b[0m\u001b[0;34m,\u001b[0m \u001b[0mmeth_name\u001b[0m\u001b[0;34m)\u001b[0m\u001b[0;34m\u001b[0m\u001b[0;34m\u001b[0m\u001b[0m\n\u001b[0;32m--> 531\u001b[0;31m             \u001b[0mresponse\u001b[0m \u001b[0;34m=\u001b[0m \u001b[0mmeth\u001b[0m\u001b[0;34m(\u001b[0m\u001b[0mreq\u001b[0m\u001b[0;34m,\u001b[0m \u001b[0mresponse\u001b[0m\u001b[0;34m)\u001b[0m\u001b[0;34m\u001b[0m\u001b[0;34m\u001b[0m\u001b[0m\n\u001b[0m\u001b[1;32m    532\u001b[0m \u001b[0;34m\u001b[0m\u001b[0m\n\u001b[1;32m    533\u001b[0m         \u001b[0;32mreturn\u001b[0m \u001b[0mresponse\u001b[0m\u001b[0;34m\u001b[0m\u001b[0;34m\u001b[0m\u001b[0m\n",
      "\u001b[0;32m~/opt/anaconda3/lib/python3.7/urllib/request.py\u001b[0m in \u001b[0;36mhttp_response\u001b[0;34m(self, request, response)\u001b[0m\n\u001b[1;32m    639\u001b[0m         \u001b[0;32mif\u001b[0m \u001b[0;32mnot\u001b[0m \u001b[0;34m(\u001b[0m\u001b[0;36m200\u001b[0m \u001b[0;34m<=\u001b[0m \u001b[0mcode\u001b[0m \u001b[0;34m<\u001b[0m \u001b[0;36m300\u001b[0m\u001b[0;34m)\u001b[0m\u001b[0;34m:\u001b[0m\u001b[0;34m\u001b[0m\u001b[0;34m\u001b[0m\u001b[0m\n\u001b[1;32m    640\u001b[0m             response = self.parent.error(\n\u001b[0;32m--> 641\u001b[0;31m                 'http', request, response, code, msg, hdrs)\n\u001b[0m\u001b[1;32m    642\u001b[0m \u001b[0;34m\u001b[0m\u001b[0m\n\u001b[1;32m    643\u001b[0m         \u001b[0;32mreturn\u001b[0m \u001b[0mresponse\u001b[0m\u001b[0;34m\u001b[0m\u001b[0;34m\u001b[0m\u001b[0m\n",
      "\u001b[0;32m~/opt/anaconda3/lib/python3.7/urllib/request.py\u001b[0m in \u001b[0;36merror\u001b[0;34m(self, proto, *args)\u001b[0m\n\u001b[1;32m    567\u001b[0m         \u001b[0;32mif\u001b[0m \u001b[0mhttp_err\u001b[0m\u001b[0;34m:\u001b[0m\u001b[0;34m\u001b[0m\u001b[0;34m\u001b[0m\u001b[0m\n\u001b[1;32m    568\u001b[0m             \u001b[0margs\u001b[0m \u001b[0;34m=\u001b[0m \u001b[0;34m(\u001b[0m\u001b[0mdict\u001b[0m\u001b[0;34m,\u001b[0m \u001b[0;34m'default'\u001b[0m\u001b[0;34m,\u001b[0m \u001b[0;34m'http_error_default'\u001b[0m\u001b[0;34m)\u001b[0m \u001b[0;34m+\u001b[0m \u001b[0morig_args\u001b[0m\u001b[0;34m\u001b[0m\u001b[0;34m\u001b[0m\u001b[0m\n\u001b[0;32m--> 569\u001b[0;31m             \u001b[0;32mreturn\u001b[0m \u001b[0mself\u001b[0m\u001b[0;34m.\u001b[0m\u001b[0m_call_chain\u001b[0m\u001b[0;34m(\u001b[0m\u001b[0;34m*\u001b[0m\u001b[0margs\u001b[0m\u001b[0;34m)\u001b[0m\u001b[0;34m\u001b[0m\u001b[0;34m\u001b[0m\u001b[0m\n\u001b[0m\u001b[1;32m    570\u001b[0m \u001b[0;34m\u001b[0m\u001b[0m\n\u001b[1;32m    571\u001b[0m \u001b[0;31m# XXX probably also want an abstract factory that knows when it makes\u001b[0m\u001b[0;34m\u001b[0m\u001b[0;34m\u001b[0m\u001b[0;34m\u001b[0m\u001b[0m\n",
      "\u001b[0;32m~/opt/anaconda3/lib/python3.7/urllib/request.py\u001b[0m in \u001b[0;36m_call_chain\u001b[0;34m(self, chain, kind, meth_name, *args)\u001b[0m\n\u001b[1;32m    501\u001b[0m         \u001b[0;32mfor\u001b[0m \u001b[0mhandler\u001b[0m \u001b[0;32min\u001b[0m \u001b[0mhandlers\u001b[0m\u001b[0;34m:\u001b[0m\u001b[0;34m\u001b[0m\u001b[0;34m\u001b[0m\u001b[0m\n\u001b[1;32m    502\u001b[0m             \u001b[0mfunc\u001b[0m \u001b[0;34m=\u001b[0m \u001b[0mgetattr\u001b[0m\u001b[0;34m(\u001b[0m\u001b[0mhandler\u001b[0m\u001b[0;34m,\u001b[0m \u001b[0mmeth_name\u001b[0m\u001b[0;34m)\u001b[0m\u001b[0;34m\u001b[0m\u001b[0;34m\u001b[0m\u001b[0m\n\u001b[0;32m--> 503\u001b[0;31m             \u001b[0mresult\u001b[0m \u001b[0;34m=\u001b[0m \u001b[0mfunc\u001b[0m\u001b[0;34m(\u001b[0m\u001b[0;34m*\u001b[0m\u001b[0margs\u001b[0m\u001b[0;34m)\u001b[0m\u001b[0;34m\u001b[0m\u001b[0;34m\u001b[0m\u001b[0m\n\u001b[0m\u001b[1;32m    504\u001b[0m             \u001b[0;32mif\u001b[0m \u001b[0mresult\u001b[0m \u001b[0;32mis\u001b[0m \u001b[0;32mnot\u001b[0m \u001b[0;32mNone\u001b[0m\u001b[0;34m:\u001b[0m\u001b[0;34m\u001b[0m\u001b[0;34m\u001b[0m\u001b[0m\n\u001b[1;32m    505\u001b[0m                 \u001b[0;32mreturn\u001b[0m \u001b[0mresult\u001b[0m\u001b[0;34m\u001b[0m\u001b[0;34m\u001b[0m\u001b[0m\n",
      "\u001b[0;32m~/opt/anaconda3/lib/python3.7/urllib/request.py\u001b[0m in \u001b[0;36mhttp_error_default\u001b[0;34m(self, req, fp, code, msg, hdrs)\u001b[0m\n\u001b[1;32m    647\u001b[0m \u001b[0;32mclass\u001b[0m \u001b[0mHTTPDefaultErrorHandler\u001b[0m\u001b[0;34m(\u001b[0m\u001b[0mBaseHandler\u001b[0m\u001b[0;34m)\u001b[0m\u001b[0;34m:\u001b[0m\u001b[0;34m\u001b[0m\u001b[0;34m\u001b[0m\u001b[0m\n\u001b[1;32m    648\u001b[0m     \u001b[0;32mdef\u001b[0m \u001b[0mhttp_error_default\u001b[0m\u001b[0;34m(\u001b[0m\u001b[0mself\u001b[0m\u001b[0;34m,\u001b[0m \u001b[0mreq\u001b[0m\u001b[0;34m,\u001b[0m \u001b[0mfp\u001b[0m\u001b[0;34m,\u001b[0m \u001b[0mcode\u001b[0m\u001b[0;34m,\u001b[0m \u001b[0mmsg\u001b[0m\u001b[0;34m,\u001b[0m \u001b[0mhdrs\u001b[0m\u001b[0;34m)\u001b[0m\u001b[0;34m:\u001b[0m\u001b[0;34m\u001b[0m\u001b[0;34m\u001b[0m\u001b[0m\n\u001b[0;32m--> 649\u001b[0;31m         \u001b[0;32mraise\u001b[0m \u001b[0mHTTPError\u001b[0m\u001b[0;34m(\u001b[0m\u001b[0mreq\u001b[0m\u001b[0;34m.\u001b[0m\u001b[0mfull_url\u001b[0m\u001b[0;34m,\u001b[0m \u001b[0mcode\u001b[0m\u001b[0;34m,\u001b[0m \u001b[0mmsg\u001b[0m\u001b[0;34m,\u001b[0m \u001b[0mhdrs\u001b[0m\u001b[0;34m,\u001b[0m \u001b[0mfp\u001b[0m\u001b[0;34m)\u001b[0m\u001b[0;34m\u001b[0m\u001b[0;34m\u001b[0m\u001b[0m\n\u001b[0m\u001b[1;32m    650\u001b[0m \u001b[0;34m\u001b[0m\u001b[0m\n\u001b[1;32m    651\u001b[0m \u001b[0;32mclass\u001b[0m \u001b[0mHTTPRedirectHandler\u001b[0m\u001b[0;34m(\u001b[0m\u001b[0mBaseHandler\u001b[0m\u001b[0;34m)\u001b[0m\u001b[0;34m:\u001b[0m\u001b[0;34m\u001b[0m\u001b[0;34m\u001b[0m\u001b[0m\n",
      "\u001b[0;31mHTTPError\u001b[0m: HTTP Error 404: Not Found"
     ]
    }
   ],
   "source": [
    "from urllib import request\n",
    "url = 'http://www.faculty.jacobs-university.de/vunnithan/spring19/data/test-data-1.txt'\n",
    "open('test-data-1.txt', 'wb').write(request.urlopen(url).read())\n",
    "\n",
    "f = open('test-data-1.txt', 'r')\n",
    "f.read()\n",
    "\n",
    "# one could also do that locally, e.g. download the same data.txt and put it in a directory e.g.\n",
    "\n",
    "# LOCAL IMPORT\n",
    "\n"
   ]
  },
  {
   "cell_type": "code",
   "execution_count": 4,
   "metadata": {},
   "outputs": [
    {
     "name": "stdout",
     "output_type": "stream",
     "text": [
      "      Latitude  Longitude  Topography\n",
      "0       8.0083    40.4938      -133.0\n",
      "1       8.0250    40.4938      -124.0\n",
      "2       8.0417    40.4938      -110.0\n",
      "3       8.0583    40.4938      -108.0\n",
      "4       8.0750    40.4938       -91.0\n",
      "5       8.0917    40.4938       -94.0\n",
      "6       8.1083    40.4938       -92.0\n",
      "7       8.1250    40.4938       -95.0\n",
      "8       8.1417    40.4938      -103.0\n",
      "9       8.1583    40.4938       -89.0\n",
      "10      8.1750    40.4938       -99.0\n",
      "11      8.1917    40.4938       -91.0\n",
      "12      8.2083    40.4938       -93.0\n",
      "13      8.2250    40.4938       -71.0\n",
      "14      8.2417    40.4938       -71.0\n",
      "15      8.2583    40.4938       -55.0\n",
      "16      8.2750    40.4938       -57.0\n",
      "17      8.2917    40.4938       -47.0\n",
      "18      8.3083    40.4938       -39.0\n",
      "19      8.3250    40.4938       -25.0\n",
      "20      8.3417    40.4938       -25.0\n",
      "21      8.3583    40.4938        15.0\n",
      "22      8.3750    40.4938        53.0\n",
      "23      8.3917    40.4938       359.0\n",
      "24      8.4083    40.4938       475.0\n",
      "25      8.4250    40.4938       437.0\n",
      "26      8.4417    40.4938       509.0\n",
      "27      8.4583    40.4938       653.0\n",
      "28      8.4750    40.4938       551.0\n",
      "29      8.4917    40.4938       411.0\n",
      "...        ...        ...         ...\n",
      "1210    8.0250    39.9976     -1093.0\n",
      "1211    8.0417    39.9976     -1035.0\n",
      "1212    8.0583    39.9976      -812.0\n",
      "1213    8.0750    39.9976      -672.0\n",
      "1214    8.0917    39.9976      -592.0\n",
      "1215    8.1083    39.9976      -552.0\n",
      "1216    8.1250    39.9976      -511.0\n",
      "1217    8.1417    39.9976      -438.0\n",
      "1218    8.1583    39.9976      -330.0\n",
      "1219    8.1750    39.9976      -193.0\n",
      "1220    8.1917    39.9976      -139.0\n",
      "1221    8.2083    39.9976      -112.0\n",
      "1222    8.2250    39.9976      -135.0\n",
      "1223    8.2417    39.9976       -78.0\n",
      "1224    8.2583    39.9976       -48.0\n",
      "1225    8.2750    39.9976       -35.0\n",
      "1226    8.2917    39.9976       -21.0\n",
      "1227    8.3083    39.9976         3.0\n",
      "1228    8.3250    39.9976        -7.0\n",
      "1229    8.3417    39.9976       -21.0\n",
      "1230    8.3583    39.9976       -29.0\n",
      "1231    8.3750    39.9976       -33.0\n",
      "1232    8.3917    39.9976       -11.0\n",
      "1233    8.4083    39.9976         7.0\n",
      "1234    8.4250    39.9976         5.0\n",
      "1235    8.4417    39.9976         5.0\n",
      "1236    8.4583    39.9976        13.0\n",
      "1237    8.4750    39.9976         9.0\n",
      "1238    8.4917    39.9976         7.0\n",
      "1239    8.5083    39.9976        -4.0\n",
      "\n",
      "[1240 rows x 3 columns]\n"
     ]
    },
    {
     "data": {
      "text/plain": [
       "1240"
      ]
     },
     "execution_count": 4,
     "metadata": {},
     "output_type": "execute_result"
    }
   ],
   "source": [
    "import pandas as pd\n",
    "datap = pd.read_csv('test-data-1.txt', skipinitialspace=True, sep=' ')\n",
    "\n",
    "f.close()\n",
    "\n",
    "print (datap)\n",
    "\n",
    "# len stands for \"lenght\" and it returns the size \n",
    "#(e.g. number of rows) of a certain list, array, or alike\n",
    "len(datap)"
   ]
  },
  {
   "cell_type": "markdown",
   "metadata": {},
   "source": [
    "# In-line vs. external windows\n",
    "\n",
    "by default, an ipython notebook, when certain graphical output is requested, opens an external window... (be patient, it comes in a while..)\n",
    "\n",
    "One can set the graphical output to occurr in-line, just below the relevant cell with \n",
    "\n",
    "```\n",
    "%matplotlib inline\n",
    "```\n",
    "\n",
    "in your python cell, e.g. see following example"
   ]
  },
  {
   "cell_type": "markdown",
   "metadata": {},
   "source": [
    "# Simple x,y plot\n"
   ]
  },
  {
   "cell_type": "code",
   "execution_count": 43,
   "metadata": {},
   "outputs": [
    {
     "data": {
      "image/png": "[encoded data removed]",
      "text/plain": [
       "<Figure size 432x288 with 1 Axes>"
      ]
     },
     "metadata": {
      "needs_background": "light"
     },
     "output_type": "display_data"
    }
   ],
   "source": [
    "# A simple plot\n",
    "\n",
    "# I comment below \"#plt.xkcd() \", as it makes all very slow (due to the deformation of each and every line!). \n",
    "# Figure looks nice with it, but that slows complex polygon rendering quite a lot!\n",
    "# use at own risk!\n",
    "\n",
    "%matplotlib inline\n",
    "import matplotlib.pyplot as plt\n",
    "import numpy as np\n",
    "\n",
    "x = np.array([1,2,3,4,5])\n",
    "y = np.array([10,20,50,76,245])\n",
    "\n",
    "markers_on = [1,2,3,4,5]\n",
    "\n",
    "# you can uncomment at your own risk..\n",
    "#plt.xkcd()  \n",
    "\n",
    "# figure\n",
    "fig = plt.figure()\n",
    "\n",
    "# subplot\n",
    "ax1 = fig.add_subplot(111)\n",
    "\n",
    "# plot line\n",
    "ax1.plot(x, y, 'r', color='b')\n",
    "\n",
    "# plot markers on top\n",
    "ax1.plot(x, y, marker='o', color='r', ls='')\n",
    "\n",
    "plt.xlabel('X label')\n",
    "plt.ylabel('Y label')\n",
    "\n",
    "# set x range\n",
    "plt.xlim([0.5,5.5])\n",
    "\n",
    "# tik location\n",
    "plt.xticks([1, 2, 3, 4, 5])\n",
    "\n",
    "# label rotation (try that out..)\n",
    "locs, labels = plt.xticks()\n",
    "plt.setp(labels, rotation=15)\n",
    "\n",
    "# labels positioning and customising\n",
    "fig.canvas.draw()\n",
    "\n",
    "# show plot inline\n",
    "plt.show()"
   ]
  },
  {
   "cell_type": "markdown",
   "metadata": {},
   "source": [
    "# Tasks\n",
    "\n",
    "*Note on report delivery: ipynb produced should be added to piggy / teamwork (your names should be indicated both in the file name and in the notebook (e.g. in a cell).**\n",
    "\n",
    "What is technically an exercise / homework has a task number. \n",
    "\n",
    "Tasks can be completed using examples in the present notebook. Most can be done just copy-pasting existing code from upper cells and modifiying them accordingly (e.g. just changing the input file name, or few parameters). \n",
    "\n",
    "The output of both exercises and tasks should be clearly visible (e.g. images/map/plots produced.\n",
    "\n",
    "## T1.1\n",
    "- Create a copy of this notebook called ```surname-name_Task1.1.ipynb``` or alike, containing your names.  Please include your answers to in-line exercises and task. Please note that you are more than free to use an additional, separate notebook for each task. Please feel free to create meaningfully named subdirectories, too. \n",
    "\n",
    "## T1.2\n",
    "- Plot these 2 lists against each other\n",
    "\n",
    "```\n",
    "[1, 4, 14, 16, 10, 132, 7, 4, 6.4, 6.3, 9.3, 23]\n",
    "[9, 11, 3.4, 3.4656, 6, 0.5, 8, 3, 4, 4.4, 6.3, 9.3]\n",
    "```\n",
    "Test multiple way to plot (Please check [previous notebook](210103_00-general-intro.ipynb#Pain-vs.-fun-chart) for inspiration:\n",
    "- Use blue thick dots as symbols for the markers.\n",
    "- Use a red line connecting points "
   ]
  },
  {
   "cell_type": "code",
   "execution_count": 45,
   "metadata": {},
   "outputs": [
    {
     "data": {
      "image/png": "[encoded data removed]",
      "text/plain": [
       "<Figure size 432x288 with 1 Axes>"
      ]
     },
     "metadata": {
      "needs_background": "light"
     },
     "output_type": "display_data"
    }
   ],
   "source": [
    "%matplotlib inline\n",
    "import matplotlib.pyplot as plt\n",
    "import numpy as np\n",
    "\n",
    "x = np.array([1, 4, 14, 16, 10, 132, 7, 4, 6.4, 6.3, 9.3, 23])\n",
    "y = np.array([9, 11, 3.4, 3.4656, 6, 0.5, 8, 3, 4, 4.4, 6.3, 9.3])\n",
    "\n",
    "markers_on = [1, 4, 14, 16, 10, 132, 7, 4, 6.4, 6.3, 9.3, 23]\n",
    "\n",
    "# you can uncomment at your own risk..\n",
    "#plt.xkcd()  \n",
    "\n",
    "# figure\n",
    "fig = plt.figure()\n",
    "\n",
    "# subplot\n",
    "ax1 = fig.add_subplot(111)\n",
    "\n",
    "# plot line\n",
    "ax1.plot(x, y, 'r', color='b')\n",
    "\n",
    "# plot markers on top\n",
    "ax1.plot(x, y, marker='o', color='r', ls='')\n",
    "\n",
    "plt.xlabel('X label')\n",
    "plt.ylabel('Y label')\n",
    "\n",
    "# set x range\n",
    "plt.xlim([0.5,5.5])\n",
    "\n",
    "# tik location\n",
    "plt.xticks([1, 2, 3, 4, 5])\n",
    "\n",
    "# label rotation (try that out..)\n",
    "locs, labels = plt.xticks()\n",
    "plt.setp(labels, rotation=15)\n",
    "\n",
    "# labels positioning and customising\n",
    "fig.canvas.draw()\n",
    "\n",
    "# show plot inline\n",
    "plt.show()"
   ]
  },
  {
   "cell_type": "code",
   "execution_count": null,
   "metadata": {},
   "outputs": [],
   "source": []
  }
 ],
 "metadata": {
  "kernelspec": {
   "display_name": "Python 3",
   "language": "python",
   "name": "python3"
  },
  "language_info": {
   "codemirror_mode": {
    "name": "ipython",
    "version": 3
   },
   "file_extension": ".py",
   "mimetype": "text/x-python",
   "name": "python",
   "nbconvert_exporter": "python",
   "pygments_lexer": "ipython3",
   "version": "3.7.4"
  },
  "toc": {
   "nav_menu": {},
   "number_sections": true,
   "sideBar": true,
   "skip_h1_title": false,
   "toc_cell": false,
   "toc_position": {
    "height": "533px",
    "left": "0px",
    "right": "1068px",
    "top": "111px",
    "width": "212px"
   },
   "toc_section_display": "block",
   "toc_window_display": true
  },
  "varInspector": {
   "cols": {
    "lenName": 16,
    "lenType": 16,
    "lenVar": 40
   },
   "kernels_config": {
    "python": {
     "delete_cmd_postfix": "",
     "delete_cmd_prefix": "del ",
     "library": "var_list.py",
     "varRefreshCmd": "print(var_dic_list())"
    },
    "r": {
     "delete_cmd_postfix": ") ",
     "delete_cmd_prefix": "rm(",
     "library": "var_list.r",
     "varRefreshCmd": "cat(var_dic_list()) "
    }
   },
   "types_to_exclude": [
    "module",
    "function",
    "builtin_function_or_method",
    "instance",
    "_Feature"
   ],
   "window_display": false
  }
 },
 "nbformat": 4,
 "nbformat_minor": 2
}
